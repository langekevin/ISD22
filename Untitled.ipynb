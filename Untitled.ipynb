{
 "cells": [
  {
   "cell_type": "code",
   "execution_count": 1,
   "id": "49c9684b",
   "metadata": {},
   "outputs": [],
   "source": [
    "import numpy as np"
   ]
  },
  {
   "cell_type": "markdown",
   "id": "065ce13e",
   "metadata": {},
   "source": [
    "$$\n",
    "D_{ABP} = ((A_X - B_X) * (A_Y - P_Y) - (A_Y - B_Y)(A_X - P_X))\n",
    "$$"
   ]
  },
  {
   "cell_type": "code",
   "execution_count": 2,
   "id": "2128c415",
   "metadata": {},
   "outputs": [],
   "source": [
    "def d_func(a, b, p):\n",
    "    val = ((a[0] - b[0]) * (a[1] - p[1]) - (a[1] - b[1]) * (a[0] - p[0]))\n",
    "    return val / val * -1 if val > 0 else val"
   ]
  },
  {
   "cell_type": "code",
   "execution_count": 3,
   "id": "a652752c",
   "metadata": {},
   "outputs": [],
   "source": [
    "def create_point(x, y):\n",
    "    return np.array([x, y])"
   ]
  },
  {
   "cell_type": "code",
   "execution_count": 26,
   "id": "ed79f96e",
   "metadata": {},
   "outputs": [],
   "source": [
    "a = create_point(0, 0)\n",
    "b = create_point(0, 3)\n",
    "p = create_point(3, 0)"
   ]
  },
  {
   "cell_type": "code",
   "execution_count": 27,
   "id": "b74188de",
   "metadata": {},
   "outputs": [
    {
     "data": {
      "text/plain": [
       "-9"
      ]
     },
     "execution_count": 27,
     "metadata": {},
     "output_type": "execute_result"
    }
   ],
   "source": [
    "d_func(a, b, p)"
   ]
  },
  {
   "cell_type": "code",
   "execution_count": 6,
   "id": "dc28ceaa",
   "metadata": {},
   "outputs": [],
   "source": [
    "start = create_point(1, -0.5)"
   ]
  },
  {
   "cell_type": "code",
   "execution_count": 7,
   "id": "a56b8511",
   "metadata": {},
   "outputs": [],
   "source": [
    "class Polygon:\n",
    "    def __init__(self, vertices):\n",
    "        self.vertices = vertices\n",
    "    \n",
    "    def moveTo(self, x, y):\n",
    "        for v in self.vertices:\n",
    "            v += np.array([x, y])"
   ]
  },
  {
   "cell_type": "code",
   "execution_count": 40,
   "id": "ee45d52f",
   "metadata": {},
   "outputs": [],
   "source": [
    "v = []\n",
    "v.append(create_point(8.5, 3.5))\n",
    "v.append(create_point(11.5, 3.5))\n",
    "v.append(create_point(11.5, 4.5))\n",
    "v.append(create_point(8.5, 4.5))\n",
    "\n",
    "t = Polygon(v)"
   ]
  },
  {
   "cell_type": "code",
   "execution_count": 41,
   "id": "0122ed89",
   "metadata": {},
   "outputs": [
    {
     "data": {
      "text/plain": [
       "[array([8.5, 3.5]),\n",
       " array([11.5,  3.5]),\n",
       " array([11.5,  4.5]),\n",
       " array([8.5, 4.5])]"
      ]
     },
     "execution_count": 41,
     "metadata": {},
     "output_type": "execute_result"
    }
   ],
   "source": [
    "t.vertices"
   ]
  },
  {
   "cell_type": "code",
   "execution_count": 8,
   "id": "f84ed6d7",
   "metadata": {},
   "outputs": [],
   "source": [
    "def printing(s: str):\n",
    "    print(\"{ \", end=\"\")\n",
    "    print(s, end=\"\")\n",
    "    print(\" },\")"
   ]
  },
  {
   "cell_type": "code",
   "execution_count": 88,
   "id": "9a15a447",
   "metadata": {},
   "outputs": [],
   "source": [
    "def write_js(t: Polygon):\n",
    "    printing(f\"move: [{t.vertices[0][0] + 0.5}, {t.vertices[0][1]}]\")\n",
    "    for i, v in enumerate(t.vertices):\n",
    "        # print(f\"Vertex: {v}\")\n",
    "        n = t.vertices[i + 1] if i + 1 < len(t.vertices) else t.vertices[0]\n",
    "        f = t.vertices[i + 2] if i + 1 < len(t.vertices) - 1 else t.vertices[0] if i + 2 == len(t.vertices) else t.vertices[2]\n",
    "        \n",
    "        d_vn = d_func(create_point(v[0], v[1]), create_point(v[0], v[1] + 10), n)\n",
    "        d = d_func(v, n, f)\n",
    "        \n",
    "        if d_vn > 0:\n",
    "            # n is on the left of v\n",
    "            printing(f\"line: [{n[0] + 0.5}, {n[1]}]\")\n",
    "            if d < 0:\n",
    "                printing(f\"curve: [{n[0]}, {n[1]}, {n[0]}, {n[1] - 0.5}]\")\n",
    "            else:\n",
    "                printing(f\"curve: [{n[0]}, {n[1]}, {n[0]}, {n[1] + 0.5}]\")\n",
    "        \n",
    "        elif d_vn < 0:\n",
    "            # n is on the right of v\n",
    "            if n[0] < v[0]:\n",
    "                factor = 0.5\n",
    "            else:\n",
    "                factor = -0.5\n",
    "            # factor = 0.5 if f[1] < n[1] else -0.5\n",
    "            printing(f\"line: [{n[0] + factor}, {n[1]}]\")\n",
    "            factor = 0.5 if d > 0 else -0.5\n",
    "            if f[1] > n[1]:\n",
    "                factor *= -1\n",
    "            printing(f\"curve: [{n[0]}, {n[1]}, {n[0]}, {n[1] + factor}]\")\n",
    "        \n",
    "        elif d_vn == 0:\n",
    "            # n is on v\n",
    "            # print(\"e\")\n",
    "            d_vn = d_func(v, create_point(v[0] + 10, v[1]), n)\n",
    "            \n",
    "            if d_vn > 0:\n",
    "                # n is on top of v\n",
    "                if n[1] < v[1]:\n",
    "                    factor = 0.5\n",
    "                else:\n",
    "                    factor = -0.5\n",
    "                printing(f\"line: [{n[0]}, {n[1] + factor}]\")\n",
    "                factor = 0.5 if d > 0 else -0.5\n",
    "                printing(f\"curve: [{n[0]}, {n[1]}, {n[0] + factor}, {n[1]}]\")\n",
    "            elif d_vn < 0:\n",
    "                # n is benieve v\n",
    "                # print(v, n, f)\n",
    "                if n[1] < v[1]:\n",
    "                    factor = 0.5\n",
    "                else:\n",
    "                    factor = -0.5\n",
    "                \n",
    "                printing(f\"line: [{n[0]}, {n[1] + factor}]\")\n",
    "                \n",
    "                factor = 0.5 if f[0] > n[0] else -0.5\n",
    "                \n",
    "                printing(f\"curve: [{n[0]}, {n[1]}, {n[0] + factor}, {n[1]}]\")\n",
    "                "
   ]
  },
  {
   "cell_type": "code",
   "execution_count": 67,
   "id": "aedde5f0-1783-4940-8b7c-03f366969912",
   "metadata": {},
   "outputs": [],
   "source": [
    "v = []\n",
    "v.append(create_point(8.5, 7.5))\n",
    "v.append(create_point(9.5, 7.5))\n",
    "v.append(create_point(9.5, 10.5))\n",
    "v.append(create_point(12.5, 10.5))\n",
    "v.append(create_point(12.5, 11.5))\n",
    "v.append(create_point(9.5, 11.5))\n",
    "v.append(create_point(9.5, 14.5))\n",
    "v.append(create_point(8.5, 14.5))\n",
    "\n",
    "t = Polygon(v)"
   ]
  },
  {
   "cell_type": "code",
   "execution_count": 68,
   "id": "e1c5af03-366e-4632-86d4-735d0566a38b",
   "metadata": {},
   "outputs": [
    {
     "name": "stdout",
     "output_type": "stream",
     "text": [
      "{ move: [9.0, 7.5] },\n",
      "{ line: [9.0, 7.5] },\n",
      "{ curve: [9.5, 7.5, 9.5, 8.0] },\n",
      "{ line: [9.5, 10.0] },\n",
      "{ curve: [9.5, 10.5, 10.0, 10.5] },\n",
      "{ line: [12.0, 10.5] },\n",
      "{ curve: [12.5, 10.5, 12.5, 11.0] },\n",
      "{ line: [12.5, 11.0] },\n",
      "{ curve: [12.5, 11.5, 12.0, 11.5] },\n",
      "{ line: [10.0, 11.5] },\n",
      "{ curve: [9.5, 11.5, 9.5, 12.0] },\n",
      "{ line: [9.5, 14.0] },\n",
      "{ curve: [9.5, 14.5, 9.0, 14.5] },\n",
      "{ line: [9.0, 14.5] },\n",
      "{ curve: [8.5, 14.5, 8.5, 14.0] },\n",
      "{ line: [8.5, 8.0] },\n",
      "{ curve: [8.5, 7.5, 9.0, 7.5] },\n"
     ]
    }
   ],
   "source": [
    "write_js(t)"
   ]
  },
  {
   "cell_type": "code",
   "execution_count": 69,
   "id": "acf42cbd-ec9c-498e-a1cb-23c8cd1db2cb",
   "metadata": {},
   "outputs": [],
   "source": [
    "v = []\n",
    "v.append(create_point(3.5, 3.5))\n",
    "v.append(create_point(6.5, 3.5))\n",
    "v.append(create_point(6.5, 5.5))\n",
    "v.append(create_point(3.5, 5.5))\n",
    "\n",
    "t = Polygon(v)"
   ]
  },
  {
   "cell_type": "code",
   "execution_count": 70,
   "id": "5674a317",
   "metadata": {},
   "outputs": [
    {
     "name": "stdout",
     "output_type": "stream",
     "text": [
      "{ move: [4.0, 3.5] },\n",
      "{ line: [6.0, 3.5] },\n",
      "{ curve: [6.5, 3.5, 6.5, 4.0] },\n",
      "{ line: [6.5, 5.0] },\n",
      "{ curve: [6.5, 5.5, 6.0, 5.5] },\n",
      "{ line: [4.0, 5.5] },\n",
      "{ curve: [3.5, 5.5, 3.5, 5.0] },\n",
      "{ line: [3.5, 4.0] },\n",
      "{ curve: [3.5, 3.5, 4.0, 3.5] },\n"
     ]
    }
   ],
   "source": [
    "write_js(t)"
   ]
  },
  {
   "cell_type": "code",
   "execution_count": 12,
   "id": "870d964f",
   "metadata": {},
   "outputs": [],
   "source": [
    "v = []\n",
    "v.append(create_point(8.5, 3.5))\n",
    "v.append(create_point(11.5, 3.5))\n",
    "v.append(create_point(11.5, 5.5))\n",
    "v.append(create_point(8.5, 5.5))\n",
    "\n",
    "t = Polygon(v)"
   ]
  },
  {
   "cell_type": "code",
   "execution_count": 13,
   "id": "489ad611-209f-4531-9684-dce519860167",
   "metadata": {},
   "outputs": [
    {
     "name": "stdout",
     "output_type": "stream",
     "text": [
      "{ move: [9.0, 3.5] },\n",
      "{ line: [11.0, 3.5] },\n",
      "{ curve: [11.5, 3.5, 11.5, 4.0] },\n",
      "{ line: [11.5, 5.0] },\n",
      "{ curve: [11.5, 5.5, 11.0, 5.5] },\n",
      "{ line: [9.0, 5.5] },\n",
      "{ curve: [8.5, 5.5, 8.5, 5.0] },\n",
      "{ line: [8.5, 4.0] },\n",
      "{ curve: [8.5, 3.5, 9.0, 3.5] },\n"
     ]
    }
   ],
   "source": [
    "write_js(t)"
   ]
  },
  {
   "cell_type": "code",
   "execution_count": 14,
   "id": "4a43e227-15e7-4b9d-b0d5-b5bb0b70066a",
   "metadata": {},
   "outputs": [],
   "source": [
    "v = []\n",
    "v.append(create_point(3.5, 7.5))\n",
    "v.append(create_point(6.5, 7.5))\n",
    "v.append(create_point(6.5, 8.5))\n",
    "v.append(create_point(3.5, 8.5))\n",
    "\n",
    "t = Polygon(v)"
   ]
  },
  {
   "cell_type": "code",
   "execution_count": 15,
   "id": "ab9d4f47-5dbc-4f47-b61e-5f3a74780a46",
   "metadata": {},
   "outputs": [
    {
     "name": "stdout",
     "output_type": "stream",
     "text": [
      "{ move: [4.0, 7.5] },\n",
      "{ line: [6.0, 7.5] },\n",
      "{ curve: [6.5, 7.5, 6.5, 8.0] },\n",
      "{ line: [6.5, 8.0] },\n",
      "{ curve: [6.5, 8.5, 6.0, 8.5] },\n",
      "{ line: [4.0, 8.5] },\n",
      "{ curve: [3.5, 8.5, 3.5, 8.0] },\n",
      "{ line: [3.5, 8.0] },\n",
      "{ curve: [3.5, 7.5, 4.0, 7.5] },\n"
     ]
    }
   ],
   "source": [
    "write_js(t)"
   ]
  },
  {
   "cell_type": "code",
   "execution_count": 16,
   "id": "c2fc725f-97bf-435a-99c1-5121d511c264",
   "metadata": {},
   "outputs": [],
   "source": [
    "v = []\n",
    "v.append(create_point(17.5, 3.5))\n",
    "v.append(create_point(21.5, 3.5))\n",
    "v.append(create_point(21.5, 5.5))\n",
    "v.append(create_point(17.5, 5.5))\n",
    "\n",
    "t = Polygon(v)"
   ]
  },
  {
   "cell_type": "code",
   "execution_count": 17,
   "id": "41b59b41-ec7d-4865-aa94-442630849f12",
   "metadata": {},
   "outputs": [
    {
     "name": "stdout",
     "output_type": "stream",
     "text": [
      "{ move: [18.0, 3.5] },\n",
      "{ line: [21.0, 3.5] },\n",
      "{ curve: [21.5, 3.5, 21.5, 4.0] },\n",
      "{ line: [21.5, 5.0] },\n",
      "{ curve: [21.5, 5.5, 21.0, 5.5] },\n",
      "{ line: [18.0, 5.5] },\n",
      "{ curve: [17.5, 5.5, 17.5, 5.0] },\n",
      "{ line: [17.5, 4.0] },\n",
      "{ curve: [17.5, 3.5, 18.0, 3.5] },\n"
     ]
    }
   ],
   "source": [
    "write_js(t)"
   ]
  },
  {
   "cell_type": "code",
   "execution_count": 18,
   "id": "7ea1c46d-db75-4c6d-8524-f846cff59301",
   "metadata": {},
   "outputs": [],
   "source": [
    "v = []\n",
    "v.append(create_point(23.5, 3.5))\n",
    "v.append(create_point(26.5, 3.5))\n",
    "v.append(create_point(26.5, 5.5))\n",
    "v.append(create_point(23.5, 5.5))\n",
    "\n",
    "t = Polygon(v)"
   ]
  },
  {
   "cell_type": "code",
   "execution_count": 19,
   "id": "48e02f3b-ace8-46ae-93a4-6e7dd1ea5a78",
   "metadata": {},
   "outputs": [
    {
     "name": "stdout",
     "output_type": "stream",
     "text": [
      "{ move: [24.0, 3.5] },\n",
      "{ line: [26.0, 3.5] },\n",
      "{ curve: [26.5, 3.5, 26.5, 4.0] },\n",
      "{ line: [26.5, 5.0] },\n",
      "{ curve: [26.5, 5.5, 26.0, 5.5] },\n",
      "{ line: [24.0, 5.5] },\n",
      "{ curve: [23.5, 5.5, 23.5, 5.0] },\n",
      "{ line: [23.5, 4.0] },\n",
      "{ curve: [23.5, 3.5, 24.0, 3.5] },\n"
     ]
    }
   ],
   "source": [
    "write_js(t)"
   ]
  },
  {
   "cell_type": "code",
   "execution_count": 20,
   "id": "59654ff1-8483-4c5e-85ae-411958dda3e6",
   "metadata": {},
   "outputs": [],
   "source": [
    "v = []\n",
    "v.append(create_point(23.5, 7.5))\n",
    "v.append(create_point(26.5, 7.5))\n",
    "v.append(create_point(26.5, 8.5))\n",
    "v.append(create_point(23.5, 8.5))\n",
    "\n",
    "t = Polygon(v)"
   ]
  },
  {
   "cell_type": "code",
   "execution_count": 21,
   "id": "31c70125-5421-4e4a-8ac4-3116411b48a8",
   "metadata": {},
   "outputs": [
    {
     "name": "stdout",
     "output_type": "stream",
     "text": [
      "{ move: [24.0, 7.5] },\n",
      "{ line: [26.0, 7.5] },\n",
      "{ curve: [26.5, 7.5, 26.5, 8.0] },\n",
      "{ line: [26.5, 8.0] },\n",
      "{ curve: [26.5, 8.5, 26.0, 8.5] },\n",
      "{ line: [24.0, 8.5] },\n",
      "{ curve: [23.5, 8.5, 23.5, 8.0] },\n",
      "{ line: [23.5, 8.0] },\n",
      "{ curve: [23.5, 7.5, 24.0, 7.5] },\n"
     ]
    }
   ],
   "source": [
    "write_js(t)"
   ]
  },
  {
   "cell_type": "code",
   "execution_count": 90,
   "id": "62175dd5-5b85-4e7e-9eac-ec5c9f4158f3",
   "metadata": {},
   "outputs": [],
   "source": [
    "v = []\n",
    "v.append(create_point(8.5, 7.5))\n",
    "v.append(create_point(9.5, 7.5))\n",
    "v.append(create_point(9.5, 10.5))\n",
    "v.append(create_point(12.5, 10.5))\n",
    "v.append(create_point(12.5, 11.5))\n",
    "v.append(create_point(9.5, 11.5))\n",
    "v.append(create_point(9.5, 14.5))\n",
    "v.append(create_point(8.5, 14.5))\n",
    "\n",
    "t = Polygon(v)"
   ]
  },
  {
   "cell_type": "code",
   "execution_count": 91,
   "id": "1d16bf16-6a68-4dc4-be66-917555e17a64",
   "metadata": {},
   "outputs": [
    {
     "name": "stdout",
     "output_type": "stream",
     "text": [
      "{ move: [9.0, 7.5] },\n",
      "{ line: [9.0, 7.5] },\n",
      "{ curve: [9.5, 7.5, 9.5, 8.0] },\n",
      "{ line: [9.5, 10.0] },\n",
      "{ curve: [9.5, 10.5, 10.0, 10.5] },\n",
      "{ line: [12.0, 10.5] },\n",
      "{ curve: [12.5, 10.5, 12.5, 11.0] },\n",
      "{ line: [12.5, 11.0] },\n",
      "{ curve: [12.5, 11.5, 12.0, 11.5] },\n",
      "{ line: [10.0, 11.5] },\n",
      "{ curve: [9.5, 11.5, 9.5, 12.0] },\n",
      "{ line: [9.5, 14.0] },\n",
      "{ curve: [9.5, 14.5, 9.0, 14.5] },\n",
      "{ line: [9.0, 14.5] },\n",
      "{ curve: [8.5, 14.5, 8.5, 14.0] },\n",
      "{ line: [8.5, 8.0] },\n",
      "{ curve: [8.5, 7.5, 9.0, 7.5] },\n"
     ]
    }
   ],
   "source": [
    "write_js(t)"
   ]
  },
  {
   "cell_type": "code",
   "execution_count": 71,
   "id": "10e7d35a-e2e8-46c8-bcf6-28b9b1de9315",
   "metadata": {},
   "outputs": [],
   "source": [
    "def create_polygon(l):\n",
    "    v = []\n",
    "    for i in l:\n",
    "        v.append(create_point(i[0], i[1]))\n",
    "    return Polygon(v)"
   ]
  },
  {
   "cell_type": "code",
   "execution_count": 72,
   "id": "0f137bb9-42a7-4085-875a-dc3d2a4c59f5",
   "metadata": {},
   "outputs": [
    {
     "name": "stdout",
     "output_type": "stream",
     "text": [
      "{ move: [12.0, 7.5] },\n",
      "{ line: [18.0, 7.5] },\n",
      "{ curve: [18.5, 7.5, 18.5, 8.0] },\n",
      "{ line: [18.5, 8.0] },\n",
      "{ curve: [18.5, 8.5, 18.0, 8.5] },\n",
      "{ line: [16.0, 8.5] },\n",
      "{ curve: [15.5, 8.5, 15.5, 9.0] },\n",
      "{ line: [15.5, 11.0] },\n",
      "{ curve: [15.5, 11.5, 15.0, 11.5] },\n",
      "{ line: [15.0, 11.5] },\n",
      "{ curve: [14.5, 11.5, 14.5, 11.0] },\n",
      "{ line: [14.5, 9.0] },\n",
      "{ curve: [14.5, 8.5, 15.0, 8.5] },\n",
      "{ line: [12.0, 8.5] },\n",
      "{ curve: [11.5, 8.5, 11.5, 8.0] },\n",
      "{ line: [11.5, 8.0] },\n",
      "{ curve: [11.5, 7.5, 12.0, 7.5] },\n"
     ]
    }
   ],
   "source": [
    "v = [[11.5, 7.5], [18.5, 7.5], [18.5, 8.5], [15.5, 8.5], [15.5, 11.5], [14.5, 11.5], [14.5, 8.5], [11.5, 8.5]]\n",
    "p = create_polygon(v)\n",
    "write_js(p)"
   ]
  },
  {
   "cell_type": "code",
   "execution_count": 92,
   "id": "fcacc293-876b-46e3-8767-86fb80821cb3",
   "metadata": {},
   "outputs": [
    {
     "name": "stdout",
     "output_type": "stream",
     "text": [
      "{ move: [18.0, 10.5] },\n",
      "{ line: [20.0, 10.5] },\n",
      "{ curve: [20.5, 10.5, 20.5, 10.0] },\n",
      "{ line: [20.5, 8.0] },\n",
      "{ curve: [20.5, 7.5, 21.0, 7.5] },\n",
      "{ line: [21.0, 7.5] },\n",
      "{ curve: [21.5, 7.5, 21.5, 8.0] },\n",
      "{ line: [21.5, 14.0] },\n",
      "{ curve: [21.5, 14.5, 21.0, 14.5] },\n",
      "{ line: [21.0, 14.5] },\n",
      "{ curve: [20.5, 14.5, 20.5, 14.0] },\n",
      "{ line: [20.5, 12.0] },\n",
      "{ curve: [20.5, 11.5, 20.0, 11.5] },\n",
      "{ line: [18.0, 11.5] },\n",
      "{ curve: [17.5, 11.5, 17.5, 11.0] },\n",
      "{ line: [17.5, 11.0] },\n",
      "{ curve: [17.5, 10.5, 18.0, 10.5] },\n"
     ]
    }
   ],
   "source": [
    "v = [[17.5, 10.5], [20.5, 10.5], [20.5, 7.5], [21.5, 7.5], [21.5, 14.5], [20.5, 14.5], [20.5, 11.5], [17.5, 11.5]]\n",
    "p = create_polygon(v)\n",
    "write_js(p)"
   ]
  },
  {
   "cell_type": "code",
   "execution_count": 94,
   "id": "a41e57b5-1252-4c46-b7d5-c770759e941e",
   "metadata": {},
   "outputs": [
    {
     "name": "stdout",
     "output_type": "stream",
     "text": [
      "{ move: [4.0, 22.5] },\n",
      "{ line: [6.0, 22.5] },\n",
      "{ curve: [6.5, 22.5, 6.5, 23.0] },\n",
      "{ line: [6.5, 26.0] },\n",
      "{ curve: [6.5, 26.5, 6.0, 26.5] },\n",
      "{ line: [6.0, 26.5] },\n",
      "{ curve: [5.5, 26.5, 5.5, 26.0] },\n",
      "{ line: [5.5, 24.0] },\n",
      "{ curve: [5.5, 23.5, 5.0, 23.5] },\n",
      "{ line: [4.0, 23.5] },\n",
      "{ curve: [3.5, 23.5, 3.5, 23.0] },\n",
      "{ line: [3.5, 23.0] },\n",
      "{ curve: [3.5, 22.5, 4.0, 22.5] },\n"
     ]
    }
   ],
   "source": [
    "v = [[3.5, 22.5], [6.5, 22.5], [6.5, 26.5], [5.5, 26.5], [5.5, 23.5], [3.5, 23.5]]\n",
    "p = create_polygon(v)\n",
    "write_js(p)"
   ]
  },
  {
   "cell_type": "code",
   "execution_count": 95,
   "id": "8de80e69-9b3e-4491-b93a-a47f9ed555b8",
   "metadata": {},
   "outputs": [
    {
     "name": "stdout",
     "output_type": "stream",
     "text": [
      "{ move: [9.0, 16.5] },\n",
      "{ line: [9.0, 16.5] },\n",
      "{ curve: [9.5, 16.5, 9.5, 17.0] },\n",
      "{ line: [9.5, 20.0] },\n",
      "{ curve: [9.5, 20.5, 9.0, 20.5] },\n",
      "{ line: [9.0, 20.5] },\n",
      "{ curve: [8.5, 20.5, 8.5, 20.0] },\n",
      "{ line: [8.5, 17.0] },\n",
      "{ curve: [8.5, 16.5, 9.0, 16.5] },\n"
     ]
    }
   ],
   "source": [
    "v = [[8.5, 16.5], [9.5, 16.5], [9.5, 20.5], [8.5, 20.5]]\n",
    "p = create_polygon(v)\n",
    "write_js(p)"
   ]
  },
  {
   "cell_type": "code",
   "execution_count": 96,
   "id": "08bfcb90-c572-4054-9c04-6357210917a6",
   "metadata": {},
   "outputs": [
    {
     "name": "stdout",
     "output_type": "stream",
     "text": [
      "{ move: [9.0, 22.5] },\n",
      "{ line: [12.0, 22.5] },\n",
      "{ curve: [12.5, 22.5, 12.5, 23.0] },\n",
      "{ line: [12.5, 23.0] },\n",
      "{ curve: [12.5, 23.5, 12.0, 23.5] },\n",
      "{ line: [9.0, 23.5] },\n",
      "{ curve: [8.5, 23.5, 8.5, 23.0] },\n",
      "{ line: [8.5, 23.0] },\n",
      "{ curve: [8.5, 22.5, 9.0, 22.5] },\n"
     ]
    }
   ],
   "source": [
    "v = [[8.5, 22.5], [12.5, 22.5], [12.5, 23.5], [8.5, 23.5]]\n",
    "p = create_polygon(v)\n",
    "write_js(p)"
   ]
  },
  {
   "cell_type": "code",
   "execution_count": 97,
   "id": "1ec35545-8c7e-49b2-9b3c-fb4fec49cfce",
   "metadata": {},
   "outputs": [
    {
     "name": "stdout",
     "output_type": "stream",
     "text": [
      "{ move: [4.0, 28.5] },\n",
      "{ line: [8.0, 28.5] },\n",
      "{ curve: [8.5, 28.5, 8.5, 28.0] },\n",
      "{ line: [8.5, 26.0] },\n",
      "{ curve: [8.5, 25.5, 9.0, 25.5] },\n",
      "{ line: [9.0, 25.5] },\n",
      "{ curve: [9.5, 25.5, 9.5, 26.0] },\n",
      "{ line: [9.5, 28.0] },\n",
      "{ curve: [9.5, 28.5, 10.0, 28.5] },\n",
      "{ line: [12.0, 28.5] },\n",
      "{ curve: [12.5, 28.5, 12.5, 29.0] },\n",
      "{ line: [12.5, 29.0] },\n",
      "{ curve: [12.5, 29.5, 12.0, 29.5] },\n",
      "{ line: [4.0, 29.5] },\n",
      "{ curve: [3.5, 29.5, 3.5, 29.0] },\n",
      "{ line: [3.5, 29.0] },\n",
      "{ curve: [3.5, 28.5, 4.0, 28.5] },\n"
     ]
    }
   ],
   "source": [
    "v = [[3.5, 28.5], [8.5, 28.5], [8.5, 25.5], [9.5, 25.5], [9.5, 28.5], [12.5, 28.5], [12.5, 29.5], [3.5, 29.5]]\n",
    "p = create_polygon(v)\n",
    "write_js(p)"
   ]
  },
  {
   "cell_type": "code",
   "execution_count": 98,
   "id": "0693e10c-4316-4a68-b4b3-087ec6cef4d4",
   "metadata": {},
   "outputs": [
    {
     "name": "stdout",
     "output_type": "stream",
     "text": [
      "{ move: [12.0, 19.5] },\n",
      "{ line: [18.0, 19.5] },\n",
      "{ curve: [18.5, 19.5, 18.5, 20.0] },\n",
      "{ line: [18.5, 20.0] },\n",
      "{ curve: [18.5, 20.5, 18.0, 20.5] },\n",
      "{ line: [16.0, 20.5] },\n",
      "{ curve: [15.5, 20.5, 15.5, 21.0] },\n",
      "{ line: [15.5, 23.0] },\n",
      "{ curve: [15.5, 23.5, 15.0, 23.5] },\n",
      "{ line: [15.0, 23.5] },\n",
      "{ curve: [14.5, 23.5, 14.5, 23.0] },\n",
      "{ line: [14.5, 21.0] },\n",
      "{ curve: [14.5, 20.5, 14.0, 20.5] },\n",
      "{ line: [12.0, 20.5] },\n",
      "{ curve: [11.5, 20.5, 11.5, 20.0] },\n",
      "{ line: [11.5, 20.0] },\n",
      "{ curve: [11.5, 19.5, 12.0, 19.5] },\n"
     ]
    }
   ],
   "source": [
    "v = [[11.5, 19.5], [18.5, 19.5], [18.5, 20.5], [15.5, 20.5], [15.5, 23.5], [14.5, 23.5], [14.5, 20.5], [11.5, 20.5]]\n",
    "p = create_polygon(v)\n",
    "write_js(p)"
   ]
  },
  {
   "cell_type": "code",
   "execution_count": 99,
   "id": "28570dd5-e243-4ef0-b74b-611981f328c7",
   "metadata": {},
   "outputs": [
    {
     "name": "stdout",
     "output_type": "stream",
     "text": [
      "{ move: [12.0, 25.5] },\n",
      "{ line: [18.0, 25.5] },\n",
      "{ curve: [18.5, 25.5, 18.5, 26.0] },\n",
      "{ line: [18.5, 26.0] },\n",
      "{ curve: [18.5, 26.5, 18.0, 26.5] },\n",
      "{ line: [16.0, 26.5] },\n",
      "{ curve: [15.5, 26.5, 15.5, 27.0] },\n",
      "{ line: [15.5, 29.0] },\n",
      "{ curve: [15.5, 29.5, 15.0, 29.5] },\n",
      "{ line: [15.0, 29.5] },\n",
      "{ curve: [14.5, 29.5, 14.5, 29.0] },\n",
      "{ line: [14.5, 27.0] },\n",
      "{ curve: [14.5, 26.5, 14.0, 26.5] },\n",
      "{ line: [12.0, 26.5] },\n",
      "{ curve: [11.5, 26.5, 11.5, 26.0] },\n",
      "{ line: [11.5, 26.0] },\n",
      "{ curve: [11.5, 25.5, 12.0, 25.5] },\n"
     ]
    }
   ],
   "source": [
    "v = [[11.5, 25.5], [18.5, 25.5], [18.5, 26.5], [15.5, 26.5], [15.5, 29.5], [14.5, 29.5], [14.5, 26.5], [11.5, 26.5]]\n",
    "p = create_polygon(v)\n",
    "write_js(p)"
   ]
  },
  {
   "cell_type": "code",
   "execution_count": 100,
   "id": "33694b84-1f18-4650-b7b4-3d963f8b03de",
   "metadata": {},
   "outputs": [
    {
     "name": "stdout",
     "output_type": "stream",
     "text": [
      "{ move: [18.0, 22.5] },\n",
      "{ line: [21.0, 22.5] },\n",
      "{ curve: [21.5, 22.5, 21.5, 23.0] },\n",
      "{ line: [21.5, 23.0] },\n",
      "{ curve: [21.5, 23.5, 21.0, 23.5] },\n",
      "{ line: [18.0, 23.5] },\n",
      "{ curve: [17.5, 23.5, 17.5, 23.0] },\n",
      "{ line: [17.5, 23.0] },\n",
      "{ curve: [17.5, 22.5, 18.0, 22.5] },\n"
     ]
    }
   ],
   "source": [
    "v = [[17.5, 22.5], [21.5, 22.5], [21.5, 23.5], [17.5, 23.5]]\n",
    "p = create_polygon(v)\n",
    "write_js(p)"
   ]
  },
  {
   "cell_type": "code",
   "execution_count": 101,
   "id": "b093fa83-2a01-423d-b511-f8914d2a2bde",
   "metadata": {},
   "outputs": [
    {
     "name": "stdout",
     "output_type": "stream",
     "text": [
      "{ move: [24.0, 22.5] },\n",
      "{ line: [26.0, 22.5] },\n",
      "{ curve: [26.5, 22.5, 26.5, 23.0] },\n",
      "{ line: [26.5, 23.0] },\n",
      "{ curve: [26.5, 23.5, 26.0, 23.5] },\n",
      "{ line: [25.0, 23.5] },\n",
      "{ curve: [24.5, 23.5, 24.5, 24.0] },\n",
      "{ line: [24.5, 26.0] },\n",
      "{ curve: [24.5, 26.5, 24.0, 26.5] },\n",
      "{ line: [24.0, 26.5] },\n",
      "{ curve: [23.5, 26.5, 23.5, 26.0] },\n",
      "{ line: [23.5, 23.0] },\n",
      "{ curve: [23.5, 22.5, 24.0, 22.5] },\n"
     ]
    }
   ],
   "source": [
    "v = [[23.5, 22.5], [26.5, 22.5], [26.5, 23.5], [24.5, 23.5], [24.5, 26.5], [23.5, 26.5]]\n",
    "p = create_polygon(v)\n",
    "write_js(p)"
   ]
  },
  {
   "cell_type": "code",
   "execution_count": 103,
   "id": "d197871e-2179-4af0-946d-204077152193",
   "metadata": {},
   "outputs": [
    {
     "name": "stdout",
     "output_type": "stream",
     "text": [
      "{ move: [21.0, 16.5] },\n",
      "{ line: [21.0, 16.5] },\n",
      "{ curve: [21.5, 16.5, 21.5, 17.0] },\n",
      "{ line: [21.5, 20.0] },\n",
      "{ curve: [21.5, 20.5, 21.0, 20.5] },\n",
      "{ line: [21.0, 20.5] },\n",
      "{ curve: [20.5, 20.5, 20.5, 20.0] },\n",
      "{ line: [20.5, 17.0] },\n",
      "{ curve: [20.5, 16.5, 21.0, 16.5] },\n"
     ]
    }
   ],
   "source": [
    "v = [[20.5, 16.5], [21.5, 16.5], [21.5, 20.5], [20.5, 20.5]]\n",
    "p = create_polygon(v)\n",
    "write_js(p)"
   ]
  },
  {
   "cell_type": "code",
   "execution_count": 104,
   "id": "663bc3ba-f2c5-46cd-b5be-8e4426f2dc79",
   "metadata": {},
   "outputs": [
    {
     "name": "stdout",
     "output_type": "stream",
     "text": [
      "{ move: [18.0, 28.5] },\n",
      "{ line: [20.0, 28.5] },\n",
      "{ curve: [20.5, 28.5, 20.5, 28.0] },\n",
      "{ line: [20.5, 26.0] },\n",
      "{ curve: [20.5, 25.5, 21.0, 25.5] },\n",
      "{ line: [21.0, 25.5] },\n",
      "{ curve: [21.5, 25.5, 21.5, 26.0] },\n",
      "{ line: [21.5, 28.0] },\n",
      "{ curve: [21.5, 28.5, 22.0, 28.5] },\n",
      "{ line: [26.0, 28.5] },\n",
      "{ curve: [26.5, 28.5, 26.5, 29.0] },\n",
      "{ line: [26.5, 29.0] },\n",
      "{ curve: [26.5, 29.5, 26.0, 29.5] },\n",
      "{ line: [18.0, 29.5] },\n",
      "{ curve: [17.5, 29.5, 17.5, 29.0] },\n",
      "{ line: [17.5, 29.0] },\n",
      "{ curve: [17.5, 28.5, 18.0, 28.5] },\n"
     ]
    }
   ],
   "source": [
    "v = [[17.5, 28.5], [20.5, 28.5], [20.5, 25.5], [21.5, 25.5], [21.5, 28.5], [26.5, 28.5], [26.5, 29.5], [17.5, 29.5]]\n",
    "p = create_polygon(v)\n",
    "write_js(p)"
   ]
  },
  {
   "cell_type": "code",
   "execution_count": 105,
   "id": "e2700b94-2927-451e-8f53-aea93d85c550",
   "metadata": {},
   "outputs": [
    {
     "name": "stdout",
     "output_type": "stream",
     "text": [
      "{ move: [12.0, 13.5] },\n",
      "{ line: [18.0, 13.5] },\n",
      "{ curve: [18.5, 13.5, 18.5, 14.0] },\n",
      "{ line: [18.5, 17.0] },\n",
      "{ curve: [18.5, 17.5, 18.0, 17.5] },\n",
      "{ line: [12.0, 17.5] },\n",
      "{ curve: [11.5, 17.5, 11.5, 17.0] },\n",
      "{ line: [11.5, 14.0] },\n",
      "{ curve: [11.5, 13.5, 12.0, 13.5] },\n"
     ]
    }
   ],
   "source": [
    "v = [[11.5, 13.5], [18.5, 13.5], [18.5, 17.5], [11.5, 17.5]]\n",
    "p = create_polygon(v)\n",
    "write_js(p)"
   ]
  },
  {
   "cell_type": "code",
   "execution_count": 107,
   "id": "3a6d6f14-0187-4c35-b8d7-d034d5eb6305",
   "metadata": {},
   "outputs": [
    {
     "name": "stdout",
     "output_type": "stream",
     "text": [
      "{ move: [12.5, 14] },\n",
      "{ line: [17.5, 14] },\n",
      "{ curve: [18, 14, 18, 14.5] },\n",
      "{ line: [18, 16.5] },\n",
      "{ curve: [18, 17, 17.5, 17] },\n",
      "{ line: [12.5, 17] },\n",
      "{ curve: [12, 17, 12, 16.5] },\n",
      "{ line: [12, 14.5] },\n",
      "{ curve: [12, 14, 12.5, 14] },\n"
     ]
    }
   ],
   "source": [
    "v = [[12, 14], [18, 14], [18, 17], [12, 17]]\n",
    "p = create_polygon(v)\n",
    "write_js(p)"
   ]
  },
  {
   "cell_type": "code",
   "execution_count": 108,
   "id": "15e619c0-3d2a-4ac0-8add-61e66cc149b3",
   "metadata": {},
   "outputs": [
    {
     "name": "stdout",
     "output_type": "stream",
     "text": [
      "{ move: [1.0, 16.5] },\n",
      "{ line: [6.0, 16.5] },\n",
      "{ curve: [6.5, 16.5, 6.5, 17.0] },\n",
      "{ line: [6.5, 20.0] },\n",
      "{ curve: [6.5, 20.5, 6.0, 20.5] },\n",
      "{ line: [2.0, 20.5] },\n",
      "{ curve: [1.5, 20.5, 1.5, 21.0] },\n",
      "{ line: [1.5, 25.0] },\n",
      "{ curve: [1.5, 25.5, 2.0, 25.5] },\n",
      "{ line: [3.0, 25.5] },\n",
      "{ curve: [3.5, 25.5, 3.5, 26.0] },\n",
      "{ line: [3.5, 26.0] },\n",
      "{ curve: [3.5, 26.5, 3.0, 26.5] },\n",
      "{ line: [2.0, 26.5] },\n",
      "{ curve: [1.5, 26.5, 1.5, 27.0] },\n",
      "{ line: [1.5, 31.0] },\n",
      "{ curve: [1.5, 31.5, 2.0, 31.5] },\n",
      "{ line: [28.0, 31.5] },\n",
      "{ curve: [28.5, 31.5, 28.5, 31.0] },\n",
      "{ line: [28.5, 27.0] },\n",
      "{ curve: [28.5, 26.5, 28.0, 26.5] },\n",
      "{ line: [27.0, 26.5] },\n",
      "{ curve: [26.5, 26.5, 26.5, 26.0] },\n",
      "{ line: [26.5, 26.0] },\n",
      "{ curve: [26.5, 25.5, 27.0, 25.5] },\n",
      "{ line: [28.0, 25.5] },\n",
      "{ curve: [28.5, 25.5, 28.5, 25.0] },\n",
      "{ line: [28.5, 21.0] },\n",
      "{ curve: [28.5, 20.5, 28.0, 20.5] },\n",
      "{ line: [24.0, 20.5] },\n",
      "{ curve: [23.5, 20.5, 23.5, 20.0] },\n",
      "{ line: [23.5, 17.0] },\n",
      "{ curve: [23.5, 16.5, 23.0, 16.5] },\n",
      "{ line: [20.0, 16.5] },\n",
      "{ curve: [19.5, 16.5, 19.5, 16.0] },\n",
      "{ line: [1.0, 16.5] },\n",
      "{ curve: [0.5, 16.5, 0.5, 17.0] },\n"
     ]
    }
   ],
   "source": [
    "v = [\n",
    "    [0.5, 16.5], [6.5, 16.5], [6.5, 20.5], [1.5, 20.5], [1.5, 25.5], [3.5, 25.5], [3.5, 26.5], [1.5, 26.5],\n",
    "    [1.5, 31.5], [28.5, 31.5], [28.5, 26.5], [26.5, 26.5], [26.5, 25.5], [28.5, 25.5], [28.5, 20.5], [23.5, 20.5],\n",
    "    [23.5, 16.5], [19.5, 16.5]\n",
    "]\n",
    "p = create_polygon(v)\n",
    "write_js(p)"
   ]
  },
  {
   "cell_type": "code",
   "execution_count": 109,
   "id": "60741417-8a4a-4fdd-92ef-4bf80274d5e5",
   "metadata": {},
   "outputs": [
    {
     "name": "stdout",
     "output_type": "stream",
     "text": [
      "{ move: [1.0, 17.0] },\n",
      "{ line: [4.5, 17.0] },\n",
      "{ curve: [5.0, 17.0, 5.0, 17.5] },\n",
      "{ line: [5.0, 19.5] },\n",
      "{ curve: [5.0, 20.0, 4.5, 20.0] },\n",
      "{ line: [1.5, 20] },\n",
      "{ curve: [1, 20, 1, 20.5] },\n",
      "{ line: [1, 31.5] },\n",
      "{ curve: [1, 32, 1.5, 32] },\n",
      "{ line: [28.5, 32] },\n",
      "{ curve: [29, 32, 29, 31.5] },\n",
      "{ line: [29, 19.5] },\n",
      "{ curve: [29, 19, 28.5, 19] },\n",
      "{ line: [23.5, 19] },\n",
      "{ curve: [23, 19, 23, 18.5] },\n",
      "{ line: [23, 17.5] },\n",
      "{ curve: [23, 17, 23.5, 17] },\n",
      "{ line: [28.5, 17] },\n",
      "{ curve: [29, 17, 29, 16.5] },\n",
      "{ line: [1.0, 17.0] },\n",
      "{ curve: [0.5, 17.0, 0.5, 17.5] },\n"
     ]
    }
   ],
   "source": [
    "v = [\n",
    "    [0.5, 17], [5.0, 17.0], [5.0, 20], [1, 20], [1, 32], [29, 32], [29, 19], [23, 19], [23, 17], [29, 17]\n",
    "]\n",
    "p = create_polygon(v)\n",
    "write_js(p)"
   ]
  },
  {
   "cell_type": "code",
   "execution_count": 110,
   "id": "d8547167-f2f8-4ee7-b9b2-3d46a198c90a",
   "metadata": {},
   "outputs": [
    {
     "name": "stdout",
     "output_type": "stream",
     "text": [
      "{ move: [1.0, 14.0] },\n",
      "{ line: [5.5, 14.0] },\n",
      "{ curve: [6.0, 14.0, 6.0, 13.5] },\n",
      "{ line: [6.0, 11.5] },\n",
      "{ curve: [6.0, 11.0, 5.5, 11.0] },\n",
      "{ line: [1.5, 11] },\n",
      "{ curve: [1, 11, 1, 10.5] },\n",
      "{ line: [1, 1.5] },\n",
      "{ curve: [1, 1, 1.5, 1] },\n",
      "{ line: [28.5, 1] },\n",
      "{ curve: [29, 1, 29, 1.5] },\n",
      "{ line: [29, 10.5] },\n",
      "{ curve: [29, 11, 28.5, 11] },\n",
      "{ line: [24.5, 11] },\n",
      "{ curve: [24, 11, 24, 11.5] },\n",
      "{ line: [24, 13.5] },\n",
      "{ curve: [24, 14, 24.5, 14] },\n",
      "{ line: [28.5, 14] },\n",
      "{ curve: [29, 14, 29, 13.5] },\n",
      "{ line: [1.0, 14.0] },\n",
      "{ curve: [0.5, 14.0, 0.5, 13.5] },\n"
     ]
    }
   ],
   "source": [
    "v = [\n",
    "    [0.5, 14], [6.0, 14.0], [6.0, 11], [1, 11], [1, 1], [29, 1], [29, 11], [24, 11], [24, 14], [29, 14]\n",
    "]\n",
    "p = create_polygon(v)\n",
    "write_js(p)"
   ]
  },
  {
   "cell_type": "code",
   "execution_count": 111,
   "id": "1a9dfdd7-2476-483f-9346-15b9472b1e80",
   "metadata": {},
   "outputs": [
    {
     "name": "stdout",
     "output_type": "stream",
     "text": [
      "{ move: [1.0, 14.5] },\n",
      "{ line: [6.0, 14.5] },\n",
      "{ curve: [6.5, 14.5, 6.5, 14.0] },\n",
      "{ line: [6.5, 11.0] },\n",
      "{ curve: [6.5, 10.5, 6.0, 10.5] },\n",
      "{ line: [2.0, 10.5] },\n",
      "{ curve: [1.5, 10.5, 1.5, 10.0] },\n",
      "{ line: [1.5, 2.0] },\n",
      "{ curve: [1.5, 1.5, 2.0, 1.5] },\n",
      "{ line: [28.0, 1.5] },\n",
      "{ curve: [28.5, 1.5, 28.5, 2.0] },\n",
      "{ line: [28.5, 10.0] },\n",
      "{ curve: [28.5, 10.5, 28.0, 10.5] },\n",
      "{ line: [24.0, 10.5] },\n",
      "{ curve: [23.5, 10.5, 23.5, 11.0] },\n",
      "{ line: [23.5, 14.0] },\n",
      "{ curve: [23.5, 14.5, 24.0, 14.5] },\n",
      "{ line: [28.5, 14.5] },\n",
      "{ curve: [29.0, 14.5, 29.0, 14.0] },\n",
      "{ line: [1.0, 14.5] },\n",
      "{ curve: [0.5, 14.5, 0.5, 14.0] },\n"
     ]
    }
   ],
   "source": [
    "v = [\n",
    "    [0.5, 14.5], [6.5, 14.5], [6.5, 10.5], [1.5, 10.5], [1.5, 1.5],\n",
    "    [28.5, 1.5], [28.5, 10.5], [23.5, 10.5], [23.5, 14.5], [29, 14.5]\n",
    "]\n",
    "p = create_polygon(v)\n",
    "write_js(p)"
   ]
  },
  {
   "cell_type": "code",
   "execution_count": null,
   "id": "e8f2d5ae-0377-467b-b088-52227454bd36",
   "metadata": {},
   "outputs": [],
   "source": []
  }
 ],
 "metadata": {
  "kernelspec": {
   "display_name": "Python 3 (ipykernel)",
   "language": "python",
   "name": "python3"
  },
  "language_info": {
   "codemirror_mode": {
    "name": "ipython",
    "version": 3
   },
   "file_extension": ".py",
   "mimetype": "text/x-python",
   "name": "python",
   "nbconvert_exporter": "python",
   "pygments_lexer": "ipython3",
   "version": "3.9.12"
  }
 },
 "nbformat": 4,
 "nbformat_minor": 5
}
