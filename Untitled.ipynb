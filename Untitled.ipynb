{
 "cells": [
  {
   "cell_type": "code",
   "execution_count": 2,
   "id": "49c9684b",
   "metadata": {},
   "outputs": [],
   "source": [
    "import numpy as np"
   ]
  },
  {
   "cell_type": "markdown",
   "id": "065ce13e",
   "metadata": {},
   "source": [
    "$$\n",
    "D_{ABP} = ((A_X - B_X) * (A_Y - P_Y) - (A_Y - B_Y)(A_X - P_X))\n",
    "$$"
   ]
  },
  {
   "cell_type": "code",
   "execution_count": 74,
   "id": "2128c415",
   "metadata": {},
   "outputs": [],
   "source": [
    "def d_func(a, b, p):\n",
    "    val = ((a[0] - b[0]) * (a[1] - p[1]) - (a[1] - b[1]) * (a[0] - p[0]))\n",
    "    return val / val * -1 if val > 0 else val"
   ]
  },
  {
   "cell_type": "code",
   "execution_count": 75,
   "id": "a652752c",
   "metadata": {},
   "outputs": [],
   "source": [
    "def create_point(x, y):\n",
    "    return np.array([x, y])"
   ]
  },
  {
   "cell_type": "code",
   "execution_count": 76,
   "id": "ed79f96e",
   "metadata": {},
   "outputs": [],
   "source": [
    "a = create_point(0, 0)\n",
    "b = create_point(3, 0)\n",
    "p = create_point(3, 3)"
   ]
  },
  {
   "cell_type": "code",
   "execution_count": 77,
   "id": "b74188de",
   "metadata": {},
   "outputs": [
    {
     "data": {
      "text/plain": [
       "-1.0"
      ]
     },
     "execution_count": 77,
     "metadata": {},
     "output_type": "execute_result"
    }
   ],
   "source": [
    "d_func(a, b, p)"
   ]
  },
  {
   "cell_type": "code",
   "execution_count": 78,
   "id": "dc28ceaa",
   "metadata": {},
   "outputs": [],
   "source": [
    "start = create_point(1, -0.5)"
   ]
  },
  {
   "cell_type": "code",
   "execution_count": 79,
   "id": "a56b8511",
   "metadata": {},
   "outputs": [],
   "source": [
    "class Polygon:\n",
    "    def __init__(self, vertices):\n",
    "        self.vertices = vertices\n",
    "    \n",
    "    def moveTo(self, x, y):\n",
    "        for v in self.vertices:\n",
    "            v += np.array([x, y])"
   ]
  },
  {
   "cell_type": "code",
   "execution_count": 90,
   "id": "ee45d52f",
   "metadata": {},
   "outputs": [],
   "source": [
    "v = []\n",
    "v.append(create_point(3.5, 3.5))\n",
    "v.append(create_point(5.5, 3.5))\n",
    "v.append(create_point(5.5, 4.5))\n",
    "v.append(create_point(3.5, 4.5))\n",
    "\n",
    "t = Polygon(v)"
   ]
  },
  {
   "cell_type": "code",
   "execution_count": 91,
   "id": "0122ed89",
   "metadata": {},
   "outputs": [
    {
     "data": {
      "text/plain": [
       "[array([3.5, 3.5]), array([5.5, 3.5]), array([5.5, 4.5]), array([3.5, 4.5])]"
      ]
     },
     "execution_count": 91,
     "metadata": {},
     "output_type": "execute_result"
    }
   ],
   "source": [
    "t.vertices"
   ]
  },
  {
   "cell_type": "code",
   "execution_count": 82,
   "id": "5f84a8b1",
   "metadata": {},
   "outputs": [],
   "source": [
    "t.moveTo(10, 10)"
   ]
  },
  {
   "cell_type": "code",
   "execution_count": 83,
   "id": "826b19b4",
   "metadata": {},
   "outputs": [
    {
     "data": {
      "text/plain": [
       "[array([10.5, 10.5]),\n",
       " array([13.5, 10.5]),\n",
       " array([13.5, 12.5]),\n",
       " array([10.5, 12.5])]"
      ]
     },
     "execution_count": 83,
     "metadata": {},
     "output_type": "execute_result"
    }
   ],
   "source": [
    "t.vertices"
   ]
  },
  {
   "cell_type": "code",
   "execution_count": 84,
   "id": "f84ed6d7",
   "metadata": {},
   "outputs": [],
   "source": [
    "def printing(s: str):\n",
    "    print(\"{ \", end=\"\")\n",
    "    print(s, end=\"\")\n",
    "    print(\" },\")"
   ]
  },
  {
   "cell_type": "code",
   "execution_count": 134,
   "id": "9a15a447",
   "metadata": {},
   "outputs": [],
   "source": [
    "def write_js(t: Polygon):\n",
    "    printing(f\"move: [{t.vertices[0][0] + 0.5}, {t.vertices[0][1]}]\")\n",
    "    for i, v in enumerate(t.vertices):\n",
    "        n = t.vertices[i + 1] if i + 1 < len(t.vertices) else t.vertices[0]\n",
    "        f = t.vertices[i + 2] if i + 2 < len(t.vertices) - 1 else t.vertices[0] if i + 2 == len(t.vertices) else t.vertices[2]\n",
    "        \n",
    "        d_vn = d_func(create_point(v[0], v[1]), create_point(v[0], v[1] + 10), n)\n",
    "        d = d_func(v, n, f)\n",
    "        \n",
    "        if d_vn > 0:\n",
    "            print(\"a\")\n",
    "            # n is on the left of v\n",
    "            printing(f\"line: [{n[0] + 0.5}, {n[1]}]\")\n",
    "            if d < 0:\n",
    "                printing(f\"curve: [{n[0]}, {n[1]}, {n[0]}, {n[1] - 0.5}]\")\n",
    "            else:\n",
    "                printing(f\"curve: [{n[0]}, {n[1]}, {n[0]}, {n[1] + 0.5}]\")\n",
    "        \n",
    "        elif d_vn < 0:\n",
    "            print(\"b\")\n",
    "            # n is on the right of v\n",
    "            factor = 0.5 if f[1] > n[1] else -0.5\n",
    "            printing(f\"line: [{n[0]}, {n[1]}]\")\n",
    "            factor = 0.5 if d < 0 else -0.5\n",
    "            if f[1] > n[1]:\n",
    "                factor *= -1\n",
    "            printing(f\"curve: [{n[0]}, {n[1]}, {n[0]}, {n[1] + factor}]\")\n",
    "        \n",
    "        elif d_vn == 0:\n",
    "            print(\"c\")\n",
    "            # n is on v\n",
    "            d_vn = d_func(v, create_point(v[0] + 10, v[1]), n)\n",
    "            \n",
    "            if d_vn > 0:\n",
    "                print(\"d\")\n",
    "                # n is on top of v\n",
    "                printing(f\"line: [{n[0]}, {n[1] - 0.5}]\")\n",
    "                factor = 0.5 if d > 0 else -0.5\n",
    "                printing(f\"curve: [{n[0]}, {n[1]}, {n[0] + factor}, {n[1]}]\")\n",
    "            elif d_vn < 0:\n",
    "                print(\"e\")\n",
    "                # n is benieve v\n",
    "                printing(f\"line: [{n[0]}, {n[1] - 0.5}]\")\n",
    "                \n",
    "                factor = 0.5 if d > 0 else -0.5\n",
    "                \n",
    "                printing(f\"curve: [{n[0]}, {n[1]}, {n[0] + factor}, {n[1]}]\")\n",
    "                "
   ]
  },
  {
   "cell_type": "code",
   "execution_count": 135,
   "id": "5674a317",
   "metadata": {},
   "outputs": [
    {
     "name": "stdout",
     "output_type": "stream",
     "text": [
      "{ move: [4.0, 3.5] },\n",
      "b\n",
      "{ line: [5.5, 3.5] },\n",
      "{ curve: [5.5, 3.5, 5.5, 3.0] },\n",
      "c\n",
      "e\n",
      "{ line: [5.5, 4.0] },\n",
      "{ curve: [5.5, 4.5, 5.0, 4.5] },\n",
      "b\n",
      "{ line: [3.5, 4.5] },\n",
      "{ curve: [3.5, 4.5, 3.5, 5.0] },\n",
      "c\n",
      "e\n",
      "{ line: [3.5, 3.0] },\n",
      "{ curve: [3.5, 3.5, 3.0, 3.5] },\n"
     ]
    }
   ],
   "source": [
    "write_js(t)"
   ]
  },
  {
   "cell_type": "code",
   "execution_count": null,
   "id": "870d964f",
   "metadata": {},
   "outputs": [],
   "source": []
  }
 ],
 "metadata": {
  "kernelspec": {
   "display_name": "Python 3 (ipykernel)",
   "language": "python",
   "name": "python3"
  },
  "language_info": {
   "codemirror_mode": {
    "name": "ipython",
    "version": 3
   },
   "file_extension": ".py",
   "mimetype": "text/x-python",
   "name": "python",
   "nbconvert_exporter": "python",
   "pygments_lexer": "ipython3",
   "version": "3.9.12"
  }
 },
 "nbformat": 4,
 "nbformat_minor": 5
}
